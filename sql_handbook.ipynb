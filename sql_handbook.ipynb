{
  "nbformat": 4,
  "nbformat_minor": 0,
  "metadata": {
    "colab": {
      "provenance": [],
      "collapsed_sections": []
    },
    "kernelspec": {
      "name": "python3",
      "display_name": "Python 3"
    },
    "language_info": {
      "name": "python"
    }
  },
  "cells": [
    {
      "cell_type": "markdown",
      "source": [
        "Select and filter"
      ],
      "metadata": {
        "id": "etIl5SwtADaj"
      }
    },
    {
      "cell_type": "code",
      "execution_count": null,
      "metadata": {
        "id": "pY2O2rAZ479_"
      },
      "outputs": [],
      "source": [
        "val df = spark.table(table.name).select($\"col_name\").filter($\"col_name\" === \"\" && $\"col_name\".between(2,8))"
      ]
    },
    {
      "cell_type": "code",
      "source": [
        "spark.table(table.name).select($\"col_name\").where($\"col_name\" >= || $\"col_name\".isin())"
      ],
      "metadata": {
        "id": "zYXho1Hwe1xJ"
      },
      "execution_count": null,
      "outputs": []
    },
    {
      "cell_type": "code",
      "source": [
        "spark.table(table.name).filter($\"col_name\".isNotNull) #to filter null values"
      ],
      "metadata": {
        "id": "YfHRduOaAtOx"
      },
      "execution_count": null,
      "outputs": []
    },
    {
      "cell_type": "markdown",
      "source": [
        "Group by "
      ],
      "metadata": {
        "id": "EbKpUvn9_7kv"
      }
    },
    {
      "cell_type": "code",
      "source": [
        "df.groupBy(\"col_name\",\"col_name\").agg(count(\"col_name\").as(\"\"),sum(\"col_name\"))"
      ],
      "metadata": {
        "id": "CU0KKbOvfAXn"
      },
      "execution_count": null,
      "outputs": []
    },
    {
      "cell_type": "code",
      "source": [
        "df.groupBy(\"col_name\").agg(count(when($\"col_name\" === \"Y\",$\"col_name\")),sum(\"col_name\").as())"
      ],
      "metadata": {
        "id": "7CCDWitXmIKQ"
      },
      "execution_count": null,
      "outputs": []
    },
    {
      "cell_type": "code",
      "source": [
        "df.groupBy(\"col_name\").agg(sum($\"col1\" + $\"col2\").as(\"total\"))"
      ],
      "metadata": {
        "id": "BgAbu6IdXdsd"
      },
      "execution_count": null,
      "outputs": []
    },
    {
      "cell_type": "markdown",
      "source": [
        "orderby"
      ],
      "metadata": {
        "id": "97IsazRUzJC3"
      }
    },
    {
      "cell_type": "code",
      "source": [
        "df.orderBy($\"col_name\".desc) # asc default"
      ],
      "metadata": {
        "id": "_27Pw6lUzLIu"
      },
      "execution_count": null,
      "outputs": []
    },
    {
      "cell_type": "code",
      "source": [
        "df.orderBy($\"col1_name\",$\"col2_name\".desc)"
      ],
      "metadata": {
        "id": "dscv8OnbzZBe"
      },
      "execution_count": null,
      "outputs": []
    },
    {
      "cell_type": "code",
      "source": [
        "df.sort($\"col_name\".desc)"
      ],
      "metadata": {
        "id": "ofv489lUK3Kg"
      },
      "execution_count": null,
      "outputs": []
    },
    {
      "cell_type": "markdown",
      "source": [
        "with column"
      ],
      "metadata": {
        "id": "WuhbhuqNANKL"
      }
    },
    {
      "cell_type": "code",
      "source": [
        "df.withColumn(\"new_col_name\",$\"col_name\" + $\"col_name2\")"
      ],
      "metadata": {
        "id": "8KeIMU05DJk_"
      },
      "execution_count": null,
      "outputs": []
    },
    {
      "cell_type": "code",
      "source": [
        "df.withColumn(\"new_col_name\",($\"col_name\" + $\"col_name2\")/lit(8000))"
      ],
      "metadata": {
        "id": "pUZjatV3Dot1"
      },
      "execution_count": null,
      "outputs": []
    },
    {
      "cell_type": "code",
      "source": [
        "df.withColumn($\"new_col\",when($\"col1\" ===0,\"X\" ).otherwise(when($\"col1\" ===1,\"Y\").otherwise(when($\"col1\" ===3,\"Z\")))))"
      ],
      "metadata": {
        "id": "aOd6QC2fDu3C"
      },
      "execution_count": null,
      "outputs": []
    },
    {
      "cell_type": "code",
      "source": [
        "df.withColumnRenamed(\"old_name\",\"new_name\")"
      ],
      "metadata": {
        "id": "NeOau_1_ydFC"
      },
      "execution_count": null,
      "outputs": []
    },
    {
      "cell_type": "code",
      "source": [
        "df.select($\"col1\",when($\"col1\" === 0,\"X\").when($\"col1\" === \"1\",\"Y\").otherwise(\"null\").as(\"new_col\"))"
      ],
      "metadata": {
        "id": "BhGw9NPAQl9t"
      },
      "execution_count": null,
      "outputs": []
    },
    {
      "cell_type": "markdown",
      "source": [
        "Join\n",
        "&Union\n"
      ],
      "metadata": {
        "id": "qk1MwtfARoTz"
      }
    },
    {
      "cell_type": "code",
      "source": [
        "val df3 = df1.join(df2,Seq(\"join_col\"),\"inner\")"
      ],
      "metadata": {
        "id": "mRS1hz_RRphk"
      },
      "execution_count": null,
      "outputs": []
    },
    {
      "cell_type": "code",
      "source": [
        "df1.select($\"col_1\").join(df2.select($\"col_r_1\",$\"col_r_2\"),Seq(\"join_col\",\"join_col_2\"),\"left\")"
      ],
      "metadata": {
        "id": "2PwiqZG-S5mJ"
      },
      "execution_count": null,
      "outputs": []
    },
    {
      "cell_type": "code",
      "source": [
        "df.join(df2,Seq(\"col_name\"),\"inner\").join(df3,Seq(\"col_name\"),\"inner\")"
      ],
      "metadata": {
        "id": "IRtn7TaPizgN"
      },
      "execution_count": null,
      "outputs": []
    },
    {
      "cell_type": "code",
      "source": [
        "df1.union(df).union(df3)"
      ],
      "metadata": {
        "id": "_bN6bWmbwgHD"
      },
      "execution_count": null,
      "outputs": []
    },
    {
      "cell_type": "markdown",
      "source": [
        "Pivot"
      ],
      "metadata": {
        "id": "X8vizasOYtm3"
      }
    },
    {
      "cell_type": "code",
      "source": [
        "df.pivot(\"col_to_pivot\").agg(countDistinct(\"col_name\"))"
      ],
      "metadata": {
        "id": "RtKZZQSZYvQx"
      },
      "execution_count": null,
      "outputs": []
    },
    {
      "cell_type": "code",
      "source": [
        "df.groupBy(\"col_as_row\").pivot(\"col_to_pivot\").agg(countDistinct(\"col_name\"))"
      ],
      "metadata": {
        "id": "dAMxhLVTZC4h"
      },
      "execution_count": null,
      "outputs": []
    },
    {
      "cell_type": "markdown",
      "source": [
        "handling date column"
      ],
      "metadata": {
        "id": "uVvvhQBEVeHR"
      }
    },
    {
      "cell_type": "code",
      "source": [
        "df.withColumn(\"year_col\",year($\"date_col\"))\n",
        ".withColumn(\"month_col\",month($\"date_col\"))\n",
        ".withColumn(\"day_col\",dayofmonth($\"date_col\")"
      ],
      "metadata": {
        "id": "JmrnMvPvVj-N"
      },
      "execution_count": null,
      "outputs": []
    },
    {
      "cell_type": "markdown",
      "source": [
        "to check difference in date/time\n"
      ],
      "metadata": {
        "id": "Knb8-3WITV1f"
      }
    },
    {
      "cell_type": "code",
      "source": [
        "df.withColumn(\"current_date\",current_timestamp()).withColumn(\"time_diff\",unix_timestamp($\"current_date\")- unix_timestamp($\"table_datecol\")).withColumn(\"time_diff_1\",round($\"time_diff\"/3600))"
      ],
      "metadata": {
        "id": "OHA9dmw3Tklw"
      },
      "execution_count": null,
      "outputs": []
    },
    {
      "cell_type": "markdown",
      "source": [
        "to get last weeks monday"
      ],
      "metadata": {
        "id": "bmtKlKU0DYFb"
      }
    },
    {
      "cell_type": "code",
      "source": [
        "val df = spark.sql(\"select current_date() as today\")\n",
        ".withColumn(\"week_start\",next_day($\"today\",\"Mon\")).withColumn(\"prev_week\",date_sub($\"week_day\",14)).select($\"prev_week\").first().get(0)\n"
      ],
      "metadata": {
        "id": "RWw6z6KI1XCQ"
      },
      "execution_count": null,
      "outputs": []
    },
    {
      "cell_type": "code",
      "source": [
        "val df = spark.sql(\"select current_date() as today\").withColumn(\"week_start\",next_day($\"today\",\"Mon\"))\n",
        ".withColumn(\"prev_week\",date_sub($\"week_day\",14)).withColumn(\"next_day\",date_add($\"prev_week\",3)).select($\"next_day\").first().get(0)"
      ],
      "metadata": {
        "id": "r0XCYTzNFDQW"
      },
      "execution_count": null,
      "outputs": []
    },
    {
      "cell_type": "code",
      "source": [],
      "metadata": {
        "id": "nuhKBgKG1XHY"
      },
      "execution_count": null,
      "outputs": []
    },
    {
      "cell_type": "markdown",
      "source": [
        "window function in scala"
      ],
      "metadata": {
        "id": "9asBcX591Xdc"
      }
    },
    {
      "cell_type": "code",
      "source": [
        "import org.apaches.spark.sql.expressions.Window\n",
        "val window_name = Window.partitionBy(\"col_name\").orderBy(\"col_name\")\n",
        "df.withColumn(\"col\",row_numnber.over(window_name))\n",
        "df.withColumn(\"col_sum\", sum(\"col_name\").over(bywindow_name))"
      ],
      "metadata": {
        "id": "P6wN5Vxq1avI"
      },
      "execution_count": null,
      "outputs": []
    },
    {
      "cell_type": "markdown",
      "source": [
        "type conversion"
      ],
      "metadata": {
        "id": "d3KLweuAPUpo"
      }
    },
    {
      "cell_type": "code",
      "source": [
        "df.withColumn(\"col_name\",$\"col_name\".cast(\"int\"))\n",
        "df.select($\"col_name\".cast(\"date\"))"
      ],
      "metadata": {
        "id": "N4FY-8TfGpNQ"
      },
      "execution_count": null,
      "outputs": []
    },
    {
      "cell_type": "code",
      "source": [
        "df.select(date_format($\"col_name\",\"dd-mm-yyyy 00:00:00\"))"
      ],
      "metadata": {
        "id": "w3ASa2hiRfkk"
      },
      "execution_count": null,
      "outputs": []
    },
    {
      "cell_type": "code",
      "source": [
        "df.select(lower($\"col_name\"),initcap($\"col_name\"))"
      ],
      "metadata": {
        "id": "ZLS3vpz7SUfA"
      },
      "execution_count": null,
      "outputs": []
    },
    {
      "cell_type": "markdown",
      "source": [
        "drop and fill null"
      ],
      "metadata": {
        "id": "N-6j3TaYSz7B"
      }
    },
    {
      "cell_type": "code",
      "source": [
        "df.na.fill(\"value to fill\")"
      ],
      "metadata": {
        "id": "U4r6sOAvSyhs"
      },
      "execution_count": null,
      "outputs": []
    },
    {
      "cell_type": "code",
      "source": [
        "df.na.drop()"
      ],
      "metadata": {
        "id": "M1DTPiHWZWan"
      },
      "execution_count": null,
      "outputs": []
    },
    {
      "cell_type": "code",
      "source": [
        "df.na.drop(Seq(\"col1\",\"col2\"))"
      ],
      "metadata": {
        "id": "xmXypJJeZho3"
      },
      "execution_count": null,
      "outputs": []
    },
    {
      "cell_type": "code",
      "source": [
        "df.drop(\"col_name\")"
      ],
      "metadata": {
        "id": "MUpJaeKkU1a0"
      },
      "execution_count": null,
      "outputs": []
    },
    {
      "cell_type": "markdown",
      "source": [
        "handle duplicates"
      ],
      "metadata": {
        "id": "40mJWqSPc9lF"
      }
    },
    {
      "cell_type": "code",
      "source": [
        "df.distinct()"
      ],
      "metadata": {
        "id": "dvQD5cHRc81z"
      },
      "execution_count": null,
      "outputs": []
    },
    {
      "cell_type": "code",
      "source": [
        "df.select($\"col_name\").distinct()"
      ],
      "metadata": {
        "id": "PmbXPARwd9tz"
      },
      "execution_count": null,
      "outputs": []
    },
    {
      "cell_type": "code",
      "source": [
        "df.dropDuplicates()"
      ],
      "metadata": {
        "id": "3SjMXP85eEPl"
      },
      "execution_count": null,
      "outputs": []
    },
    {
      "cell_type": "code",
      "source": [
        "df.dropDuplicates([\"col1\",\"col2\"])"
      ],
      "metadata": {
        "id": "oqZcfrpZeOtj"
      },
      "execution_count": null,
      "outputs": []
    },
    {
      "cell_type": "markdown",
      "source": [
        "write dataframes"
      ],
      "metadata": {
        "id": "_OI4YSLTVbbB"
      }
    },
    {
      "cell_type": "code",
      "source": [
        "df.repartition(1).write.option(\"header\",true).csv(\"name\")"
      ],
      "metadata": {
        "id": "8h1mXKDvVaiL"
      },
      "execution_count": null,
      "outputs": []
    },
    {
      "cell_type": "code",
      "source": [
        "df.repartition(1).write.option(\"header\",true).mode(\"overwrite\").csv(\"name\")  "
      ],
      "metadata": {
        "id": "BWKW84kpaVki"
      },
      "execution_count": null,
      "outputs": []
    },
    {
      "cell_type": "code",
      "source": [
        "df.repartition(1).write.mode('overwrite').parquet(\"name\")"
      ],
      "metadata": {
        "id": "soQfhrlcadES"
      },
      "execution_count": null,
      "outputs": []
    },
    {
      "cell_type": "code",
      "source": [
        "df.repartition(1).write.option(\"compression\",\"gzip\").csv(\"name\")"
      ],
      "metadata": {
        "id": "USviMA91aw_s"
      },
      "execution_count": null,
      "outputs": []
    },
    {
      "cell_type": "code",
      "source": [
        "df.repartition(1).write.option(\"header\",true).partitionBy(\"col_name\").csv(\"name\")"
      ],
      "metadata": {
        "id": "4LDIo50kbPAy"
      },
      "execution_count": null,
      "outputs": []
    },
    {
      "cell_type": "markdown",
      "source": [
        "make list column"
      ],
      "metadata": {
        "id": "_hBYoOr8fCs7"
      }
    },
    {
      "cell_type": "code",
      "source": [
        "df.groupBy(\"col1\").agg(collect_list(\"col_to_list\"))"
      ],
      "metadata": {
        "id": "PnktQYksfWov"
      },
      "execution_count": null,
      "outputs": []
    },
    {
      "cell_type": "code",
      "source": [
        "df.select(concat(\"col1\",\",\",\"col2\"))"
      ],
      "metadata": {
        "id": "AyZ_b6qsf8Lw"
      },
      "execution_count": null,
      "outputs": []
    },
    {
      "cell_type": "code",
      "source": [
        "df.withColumn(\"new_col\",concat(\"col1\",\",\",\"col2\"))"
      ],
      "metadata": {
        "id": "r34wLrd4fB5Y"
      },
      "execution_count": null,
      "outputs": []
    },
    {
      "cell_type": "code",
      "source": [
        "df.withColumn(\"new_col\",concat_ws(\",\",$\"col1\",$\"col2\"))"
      ],
      "metadata": {
        "id": "16sIJhCtgY4o"
      },
      "execution_count": null,
      "outputs": []
    },
    {
      "cell_type": "code",
      "source": [
        "df.select(collect_list(\"col_name\").over(window).as(\"new_name\"))"
      ],
      "metadata": {
        "id": "NZbl_oyRhYDi"
      },
      "execution_count": null,
      "outputs": []
    },
    {
      "cell_type": "markdown",
      "source": [
        "display dataframe"
      ],
      "metadata": {
        "id": "Hels19M4hyTK"
      }
    },
    {
      "cell_type": "code",
      "source": [
        "df.show()"
      ],
      "metadata": {
        "id": "iQl8uAEzh20c"
      },
      "execution_count": null,
      "outputs": []
    },
    {
      "cell_type": "code",
      "source": [
        "df.show(10)"
      ],
      "metadata": {
        "id": "vBinAQ8Lh70c"
      },
      "execution_count": null,
      "outputs": []
    },
    {
      "cell_type": "code",
      "source": [
        "df.limit(10)"
      ],
      "metadata": {
        "id": "1uN1eN7vh4Yc"
      },
      "execution_count": null,
      "outputs": []
    },
    {
      "cell_type": "markdown",
      "source": [
        "read csv"
      ],
      "metadata": {
        "id": "lq9KePhqiS9q"
      }
    },
    {
      "cell_type": "code",
      "source": [
        "spark.read.format(\"csv\").option(\"header\",true).load(\"path\")\n",
        "spark.read.option(\"infersceham\",\"true\").option(\"header\",\"true\").csv(\"file_path\")"
      ],
      "metadata": {
        "id": "b7mfrg6diSYG"
      },
      "execution_count": null,
      "outputs": []
    },
    {
      "cell_type": "markdown",
      "source": [
        "spliting the data"
      ],
      "metadata": {
        "id": "b-FbQT1JM64p"
      }
    },
    {
      "cell_type": "code",
      "source": [
        "val df = df.select(split(col(\"col_name\"),\",\").as(\"new_column_nme\"))"
      ],
      "metadata": {
        "id": "rp_m2WD5M52n"
      },
      "execution_count": null,
      "outputs": []
    },
    {
      "cell_type": "code",
      "source": [
        "val df = df.select(split(col(\"col_name\"),\",\").as(\"new_column_nme\")).drop(\"col_name\") # when you want to drop the existing column and make new splited column "
      ],
      "metadata": {
        "id": "3pSGJlwTNdrt"
      },
      "execution_count": null,
      "outputs": []
    },
    {
      "cell_type": "code",
      "source": [
        "val df = df.withColumn(\"new_col\",split(col(\"existing_name\"),\",\").getItem(0))  # get item will take only first value for eg if 2,3 then it'll only take 2"
      ],
      "metadata": {
        "id": "d556rjxaSQ7x"
      },
      "execution_count": null,
      "outputs": []
    },
    {
      "cell_type": "markdown",
      "source": [
        "map"
      ],
      "metadata": {
        "id": "VNZklCb5UBVh"
      }
    },
    {
      "cell_type": "code",
      "source": [
        "df = df.select(\"col_ name\").map( {x -> x + 2/ 100}) "
      ],
      "metadata": {
        "id": "DivWJrhbUCwu"
      },
      "execution_count": null,
      "outputs": []
    }
  ]
}